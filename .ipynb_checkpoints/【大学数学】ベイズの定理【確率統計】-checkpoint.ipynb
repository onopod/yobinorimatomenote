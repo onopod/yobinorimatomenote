{
 "cells": [
  {
   "cell_type": "markdown",
   "metadata": {},
   "source": [
    "https://www.youtube.com/watch?v=oUN_GhB00fU"
   ]
  },
  {
   "cell_type": "markdown",
   "metadata": {},
   "source": [
    "条件付き確率\n",
    "\n",
    "$$\n",
    "P(Y|X) = \\frac{P(X, Y)}{P(X)}\n",
    "$$\n",
    "\n",
    "Xが起こった条件の下でYが起こる確率"
   ]
  },
  {
   "cell_type": "markdown",
   "metadata": {},
   "source": [
    "上記の式を変形\n",
    "\n",
    "$$\n",
    "P(X, Y) = P(Y|X) P(X) \\ \\dotsm \\text{①}\n",
    "$$"
   ]
  },
  {
   "cell_type": "markdown",
   "metadata": {},
   "source": [
    "XとYを交換\n",
    "\n",
    "$$\n",
    "P(X|Y) = \\frac{P(X, Y)}{P(Y)}\n",
    "$$"
   ]
  },
  {
   "cell_type": "markdown",
   "metadata": {},
   "source": [
    "①を代入\n",
    "\n",
    "$$\n",
    "P(X|Y) = \\frac{P(Y|X)P(X)}{P(Y)}\n",
    "$$\n",
    "\n",
    "ベイズの定理"
   ]
  },
  {
   "cell_type": "markdown",
   "metadata": {},
   "source": [
    "具体例\n",
    "\n",
    "罹患率0.01%の病気について\n",
    "\n",
    "| ＼ |陽性|陰性|\n",
    "| ---- | ---- | ---- |\n",
    "|罹患|98%|2%|\n",
    "|非罹患|20%|80%|\n",
    "\n"
   ]
  },
  {
   "cell_type": "markdown",
   "metadata": {},
   "source": [
    "Q. 陽性だと診断された場合、本当に罹患されている確率は？"
   ]
  },
  {
   "cell_type": "markdown",
   "metadata": {},
   "source": [
    "再掲 ベイズの定理\n",
    "\n",
    "$$\n",
    "P(X|Y) = \\frac{P(Y|X)P(X)}{P(Y)}\n",
    "$$"
   ]
  },
  {
   "cell_type": "markdown",
   "metadata": {},
   "source": [
    "当てはめ\n",
    "\n",
    "$$\n",
    "P(\\text{罹患}|\\text{陽性}) = \\frac{P(\\text{陽性}|\\text{罹患})P(\\text{罹患})\\ \\ \\ \\ \\ \\ \\ \\ }{P(\\text{陽性})}\n",
    "$$"
   ]
  },
  {
   "cell_type": "markdown",
   "metadata": {},
   "source": [
    "$P(\\text{罹患}|\\text{陽性})$…検査で陽性と判断された患者が、実際に罹患している確率\n",
    "\n",
    "$P(\\text{陽性}|\\text{罹患})$…病気に罹患している患者を、検査が陽性と判断する確率\n",
    "\n",
    "$P(\\text{罹患})$…罹患率\n",
    "\n",
    "$P(\\text{陽性})$…陽性の確率"
   ]
  },
  {
   "cell_type": "markdown",
   "metadata": {},
   "source": [
    "$$\n",
    "P(\\text{陽性}|\\text{罹患}) = 0.98\n",
    "$$"
   ]
  },
  {
   "cell_type": "markdown",
   "metadata": {},
   "source": [
    "$$\n",
    "P(\\text{罹患}) = 0.0001\n",
    "$$"
   ]
  },
  {
   "cell_type": "markdown",
   "metadata": {},
   "source": [
    "$$\n",
    "P(\\text{陽性}) = 0.0001 \\times 0.98 + 0.9999 \\times 0.2 = 0.200078\n",
    "$$"
   ]
  },
  {
   "cell_type": "markdown",
   "metadata": {},
   "source": [
    "陽性と判定された患者が実際に罹患している確率\n",
    "\n",
    "$$\n",
    "P(\\text{罹患}|\\text{陽性}) = \\frac{0.98 \\times 0.0001}{0.200078} = 0.00048980897 \\\\\n",
    "\\therefore \\text{約} 0.05\\%\n",
    "$$"
   ]
  },
  {
   "cell_type": "code",
   "execution_count": null,
   "metadata": {},
   "outputs": [],
   "source": []
  }
 ],
 "metadata": {
  "kernelspec": {
   "display_name": "Python 3",
   "language": "python",
   "name": "python3"
  },
  "language_info": {
   "codemirror_mode": {
    "name": "ipython",
    "version": 3
   },
   "file_extension": ".py",
   "mimetype": "text/x-python",
   "name": "python",
   "nbconvert_exporter": "python",
   "pygments_lexer": "ipython3",
   "version": "3.6.8"
  }
 },
 "nbformat": 4,
 "nbformat_minor": 2
}
