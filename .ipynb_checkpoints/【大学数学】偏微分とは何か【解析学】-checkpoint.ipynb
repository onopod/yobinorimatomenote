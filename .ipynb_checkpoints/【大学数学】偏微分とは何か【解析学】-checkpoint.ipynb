{
 "cells": [
  {
   "cell_type": "markdown",
   "metadata": {},
   "source": [
    "https://www.youtube.com/watch?v=UWFTIEIruyc"
   ]
  },
  {
   "cell_type": "markdown",
   "metadata": {},
   "source": [
    "微分\n",
    "\n",
    "$$\n",
    "\\frac{dy}{dx} = \\lim_{\\Delta x \\to 0} \\frac{f(x+\\Delta x) - f(x)}{\\Delta x}\n",
    "$$"
   ]
  },
  {
   "cell_type": "markdown",
   "metadata": {},
   "source": [
    "xの変化に対するyの変化"
   ]
  },
  {
   "cell_type": "markdown",
   "metadata": {},
   "source": [
    "別の書き方\n",
    "$$\n",
    "y^\\prime,f^\\prime(x), \\frac{df}{dx}, \\frac{d}{dx}, \\frac{d}{dx}f(x)\n",
    "$$"
   ]
  },
  {
   "cell_type": "markdown",
   "metadata": {},
   "source": [
    "二変数関数\n",
    "\n",
    "$$\n",
    "z = f(x,y)\n",
    "$$"
   ]
  },
  {
   "cell_type": "markdown",
   "metadata": {},
   "source": [
    "xの変化に対するzの変化\n",
    "\n",
    "$$\n",
    "\\frac{\\partial z}{\\partial x} = \\lim_{\\Delta x \\to 0}\\frac{f(x+\\Delta x, \\color{red}{y}) - f(x, \\color{red}{y})}{\\Delta x}\n",
    "$$\n",
    "yを固定"
   ]
  },
  {
   "cell_type": "markdown",
   "metadata": {},
   "source": [
    "yの変化に対するzの変化\n",
    "\n",
    "$$\n",
    "\\frac{\\partial z}{\\partial x} = \\lim_{\\Delta \\to 0}\\frac{f(\\color{red}{x}, y+\\Delta y) - f(\\color{red}{x}, y)}{\\Delta y}\n",
    "$$\n",
    "xを固定"
   ]
  },
  {
   "cell_type": "markdown",
   "metadata": {},
   "source": [
    "具体的な計算例\n",
    "\n",
    "$$\n",
    "(1) \\ f(x, y) = x^2 - 3y^3 \\\\\n",
    "\\frac{\\partial f}{\\partial x} = \\lim_{\\Delta x \\to 0}\\frac{f(x+\\Delta x, y) - f(x, y)}{\\Delta x}\n",
    "$$"
   ]
  },
  {
   "cell_type": "markdown",
   "metadata": {},
   "source": [
    "式を代入\n",
    "\n",
    "$$\n",
    "\\frac{\\partial f}{\\partial x} = \\lim_{\\Delta x \\to 0}\\frac{\\{(x+\\Delta x)^2-3y^3\\} - (x^2-3y^3)}{\\Delta x}\n",
    "$$"
   ]
  },
  {
   "cell_type": "markdown",
   "metadata": {},
   "source": [
    "yは相殺される\n",
    "\n",
    "$$\n",
    "\\frac{\\partial f}{\\partial x} = \\lim_{\\Delta x \\to 0} \\frac{(x+\\Delta x)^2 - x^2}{\\Delta x}\n",
    "$$"
   ]
  },
  {
   "cell_type": "markdown",
   "metadata": {},
   "source": [
    "$$\n",
    "\\frac{\\partial f}{\\partial x} = \\lim_{\\Delta x \\to 0}\\frac{x^2 +2x \\Delta x + \\Delta x^2 - x^2}{\\Delta x}\n",
    "$$"
   ]
  },
  {
   "cell_type": "markdown",
   "metadata": {},
   "source": [
    "$$\n",
    "\\frac{\\partial f}{\\partial x} = \\lim_{\\Delta x \\to 0} (2x + \\Delta x) = 2x\n",
    "$$\n",
    "\n",
    "この式の変形について要調査"
   ]
  },
  {
   "cell_type": "markdown",
   "metadata": {},
   "source": [
    "$$\n",
    "(2)\\ f(x, y) = 2x^3 - y + 4xy\n",
    "$$"
   ]
  },
  {
   "cell_type": "markdown",
   "metadata": {},
   "source": [
    "$$\n",
    "\\frac{\\partial f}{\\partial x} = 6x^2 + 4y \\\\\n",
    "\\frac{\\partial f}{\\partial y} = 4x - 1\n",
    "$$"
   ]
  },
  {
   "cell_type": "markdown",
   "metadata": {},
   "source": [
    "$$\n",
    "(3)\\ f(x, y, z) = \\sin(x+2y+z^2)\n",
    "$$"
   ]
  },
  {
   "cell_type": "markdown",
   "metadata": {},
   "source": [
    "合成関数の微分\n",
    "\n",
    "$$\n",
    "\\frac{\\partial f}{\\partial z} = 2z \\cdot \\cos(x+2y+z^2)\n",
    "$$"
   ]
  },
  {
   "cell_type": "markdown",
   "metadata": {},
   "source": [
    "https://mathtrain.jp/sinxbibun"
   ]
  },
  {
   "cell_type": "markdown",
   "metadata": {},
   "source": [
    "サインの微分：\n",
    "$y=\\sin x$ の導関数は，$y^\\prime = \\cos x$"
   ]
  },
  {
   "cell_type": "markdown",
   "metadata": {},
   "source": [
    "証明\n",
    "\n",
    "$$\n",
    "\\lim_{h \\to 0}\\frac{\\sin h}{h} = 1\n",
    "$$\n",
    "\n",
    "は前提知識とする。"
   ]
  },
  {
   "cell_type": "markdown",
   "metadata": {},
   "source": [
    "$\\sin x$の導関数は、微分の定義より\n",
    "\n",
    "$$\n",
    "\\lim_{h \\to 0}\\frac{\\sin(x+h)-\\sin x}{h}\n",
    "$$"
   ]
  },
  {
   "cell_type": "markdown",
   "metadata": {},
   "source": [
    "加法定理を用いて分子を計算する。\n",
    "\n",
    "$$\n",
    "\\lim_{h \\to 0}\\frac{\\sin x(\\cos h -1) + \\cos x \\sin h}{h}\n",
    "$$"
   ]
  },
  {
   "cell_type": "markdown",
   "metadata": {},
   "source": [
    "ここで、\n",
    "$$\n",
    "\\lim_{h \\to 0}\\frac{\\cos h - 1}{h} = 0\n",
    "$$\n",
    "および\n",
    "$$\n",
    "\\lim_{h \\to 0}\\frac{\\sin h}{h} = 1\n",
    "$$\n",
    "より、導関数は\n",
    "$$\n",
    "0+\\cos x \\cdot 1 = \\cos x\n",
    "$$\n",
    "となる。"
   ]
  },
  {
   "cell_type": "markdown",
   "metadata": {},
   "source": [
    "三角関数の定理について要復習"
   ]
  },
  {
   "cell_type": "code",
   "execution_count": null,
   "metadata": {},
   "outputs": [],
   "source": []
  }
 ],
 "metadata": {
  "kernelspec": {
   "display_name": "Python 3",
   "language": "python",
   "name": "python3"
  },
  "language_info": {
   "codemirror_mode": {
    "name": "ipython",
    "version": 3
   },
   "file_extension": ".py",
   "mimetype": "text/x-python",
   "name": "python",
   "nbconvert_exporter": "python",
   "pygments_lexer": "ipython3",
   "version": "3.6.8"
  }
 },
 "nbformat": 4,
 "nbformat_minor": 2
}
