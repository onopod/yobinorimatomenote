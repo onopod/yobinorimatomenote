{
 "cells": [
  {
   "cell_type": "markdown",
   "metadata": {},
   "source": [
    "https://www.youtube.com/watch?v=Zz1sgYxrA-k"
   ]
  },
  {
   "cell_type": "markdown",
   "metadata": {},
   "source": [
    "## 動画まとめ"
   ]
  },
  {
   "cell_type": "markdown",
   "metadata": {},
   "source": [
    "最小二乗法\n",
    "\n",
    "データ:$(x_1, y_1), (x_2, y_2), ... , ( x_n, y_n)$"
   ]
  },
  {
   "cell_type": "markdown",
   "metadata": {},
   "source": [
    "直線の式\n",
    "\n",
    "$y=ax+b$"
   ]
  },
  {
   "cell_type": "markdown",
   "metadata": {},
   "source": [
    "偏差を求める式\n",
    "\n",
    "$\\varepsilon(a, b) := \\sum_i(y_i-ax_i-b)^2$…①"
   ]
  },
  {
   "cell_type": "markdown",
   "metadata": {},
   "source": [
    "bについて固定すると、下に凸な二次関数が出来ると考えられる。\n",
    "\n",
    "aについて固定すると、下に凸な二次関数が出来ると考えられる。"
   ]
  },
  {
   "cell_type": "markdown",
   "metadata": {},
   "source": [
    "上記式の最小値を求めたいので、aの二次関数とbの二次関数の最小となる点をそれぞれ求めることを考える。"
   ]
  },
  {
   "cell_type": "markdown",
   "metadata": {},
   "source": [
    "①をaについて偏微分した式\n",
    "\n",
    "$$\n",
    "\\frac{\\partial\\varepsilon(a, b)}{{\\partial}a} = -2\\sum_i x_i(y_i-ax_i-b) = 0\n",
    "$$"
   ]
  },
  {
   "cell_type": "markdown",
   "metadata": {},
   "source": [
    "-2を消す→シグマを展開\n",
    "$$\n",
    "\\sum_i x_i y_i - \\sum_i ax_i^2 - \\sum_i  x_i b = 0\n",
    "$$"
   ]
  },
  {
   "cell_type": "markdown",
   "metadata": {},
   "source": [
    "$$\n",
    "a \\sum_i x_i^2 + b \\sum_i x_i = \\sum_i x_i y_i \\dotsm \\text{②}\n",
    "$$"
   ]
  },
  {
   "cell_type": "markdown",
   "metadata": {},
   "source": [
    "①をbについて偏微分した式\n",
    "\n",
    "$$\n",
    "\\frac{\\partial\\varepsilon(a, b)}{\\partial b} = -2\\sum_i(y_i-ax_i-b) = 0\n",
    "$$"
   ]
  },
  {
   "cell_type": "markdown",
   "metadata": {},
   "source": [
    "-2を消す→シグマを展開\n",
    "\n",
    "$$\n",
    "\\sum_i y_i - \\sum_i ax_i - \\sum_i b = 0\n",
    "$$"
   ]
  },
  {
   "cell_type": "markdown",
   "metadata": {},
   "source": [
    "第3項はn個のbと考える\n",
    "\n",
    "$$\n",
    "a \\sum_i x_i + bn = \\sum_i y_i\n",
    "$$"
   ]
  },
  {
   "cell_type": "markdown",
   "metadata": {},
   "source": [
    "両辺を$n$で割る\n",
    "\n",
    "$$\n",
    "\\frac{a \\sum_i x_i}{n} + \\frac{bn}{n} = \\frac{\\sum_i y_i}{n}\n",
    "$$"
   ]
  },
  {
   "cell_type": "markdown",
   "metadata": {},
   "source": [
    "ここで$\\frac{\\sum_i x_i}{n} = \\overline{x},\\frac{\\sum_i y_i}{n} = \\overline{y}$より\n",
    "\n",
    "$$\n",
    "a \\overline{x} + b = \\overline{y} \\\\\n",
    "b = - a \\overline{x} + \\overline{y} \\dotsm \\text{③}\n",
    "$$"
   ]
  },
  {
   "cell_type": "markdown",
   "metadata": {},
   "source": [
    "再掲 ②\n",
    "\n",
    "$$\n",
    "a \\sum_i x_i^2 + b \\sum_i x_i = \\sum_i x_i y_i \\dotsm \\text{②}\n",
    "$$"
   ]
  },
  {
   "cell_type": "markdown",
   "metadata": {},
   "source": [
    "③を②に代入\n",
    "\n",
    "$$\n",
    "a \\sum_i x_i^2 + (-a\\overline{x} + \\overline{y}) \\sum_i x_i = \\sum_i x_i y_i\n",
    "$$\n"
   ]
  },
  {
   "cell_type": "markdown",
   "metadata": {},
   "source": [
    "展開\n",
    "\n",
    "$$\n",
    "a \\sum_i x_i^2 -a \\overline{x} \\sum_i x_i + \\overline{y} \\sum_i x_i = \\sum_i x_i y_i\n",
    "$$"
   ]
  },
  {
   "cell_type": "markdown",
   "metadata": {},
   "source": [
    "両辺をnで割る\n",
    "\n",
    "$$\n",
    "\\frac{a \\sum_i x_i^2}{n} - \\frac{a \\overline{x}\\sum_i x_i}{n} + \\frac{\\overline{y} \\sum_i x_i}{n} = \\frac{\\sum_i x_i y_i}{n}\n",
    "$$"
   ]
  },
  {
   "cell_type": "markdown",
   "metadata": {},
   "source": [
    "ここで$\\overline{x} = \\frac{\\sum_i x_i}{n}$より\n",
    "\n",
    "$$\n",
    "a \\overline{x^2} - a \\overline{x}^2 + \\overline{x}\\ \\overline{y} = \\overline{x y}\n",
    "$$"
   ]
  },
  {
   "cell_type": "markdown",
   "metadata": {},
   "source": [
    "aについて展開\n",
    "\n",
    "$$\n",
    "a = \\frac{\\overline{xy} - \\overline{x}\\ \\overline{y}}{\\overline{x^2} - \\overline{x}^2}\n",
    "$$"
   ]
  },
  {
   "cell_type": "markdown",
   "metadata": {},
   "source": [
    "ここで、$\\overline{xy} - \\overline{x}\\ \\overline{y}$は$x, y$の共分散$\\sigma_{ab}$"
   ]
  },
  {
   "cell_type": "markdown",
   "metadata": {},
   "source": [
    "また、$\\overline{x^2}-\\overline{x}^2$はxの分散$\\sigma_x^2$"
   ]
  },
  {
   "cell_type": "markdown",
   "metadata": {},
   "source": [
    "$$\n",
    "\\therefore a = \\frac{\\sigma_{ab}}{\\sigma_x^2}\n",
    "$$"
   ]
  },
  {
   "cell_type": "markdown",
   "metadata": {},
   "source": [
    "まとめ\n",
    "\n",
    "$$\n",
    "b = - a \\overline{x} + \\overline{y} \\\\\n",
    "a = \\frac{\\sigma_{ab}}{\\sigma_x^2}\n",
    "$$\n"
   ]
  },
  {
   "cell_type": "markdown",
   "metadata": {},
   "source": [
    "## コード"
   ]
  },
  {
   "cell_type": "code",
   "execution_count": 1,
   "metadata": {},
   "outputs": [
    {
     "data": {
      "text/plain": [
       "((100, 1), (100,))"
      ]
     },
     "execution_count": 1,
     "metadata": {},
     "output_type": "execute_result"
    }
   ],
   "source": [
    "# sklearnでデータを生成\n",
    "from sklearn.datasets import make_regression\n",
    "raw_data = make_regression(n_samples=100, n_features=1, n_informative=1, n_targets=1, noise = 28, bias=0.4)\n",
    "raw_data[0].shape, raw_data[1].shape"
   ]
  },
  {
   "cell_type": "code",
   "execution_count": 2,
   "metadata": {},
   "outputs": [
    {
     "data": {
      "text/plain": [
       "<Figure size 640x480 with 1 Axes>"
      ]
     },
     "metadata": {},
     "output_type": "display_data"
    }
   ],
   "source": [
    "# グラフ表示\n",
    "import matplotlib.pyplot as plt\n",
    "plt.scatter(x=raw_data[0], y=raw_data[1])\n",
    "plt.show()"
   ]
  },
  {
   "cell_type": "markdown",
   "metadata": {},
   "source": [
    "求めたい式$y = ax + b$"
   ]
  },
  {
   "cell_type": "markdown",
   "metadata": {},
   "source": [
    "\n",
    "$$\n",
    "a = \\frac{\\overline{xy} - \\overline{x}\\ \\overline{y}}{\\overline{x^2} - \\overline{x}^2} \\\\\n",
    "b = - a \\overline{x} + \\overline{y}\n",
    "$$\n"
   ]
  },
  {
   "cell_type": "code",
   "execution_count": 3,
   "metadata": {},
   "outputs": [],
   "source": [
    "X, Y = raw_data[0].reshape(-1).tolist(), raw_data[1].reshape(-1).tolist()"
   ]
  },
  {
   "cell_type": "code",
   "execution_count": 4,
   "metadata": {},
   "outputs": [
    {
     "data": {
      "text/plain": [
       "76.42242910692639"
      ]
     },
     "execution_count": 4,
     "metadata": {},
     "output_type": "execute_result"
    }
   ],
   "source": [
    "import numpy as np\n",
    "def func_a(X, Y):\n",
    "    n = len(X)\n",
    "    bar_xy = np.mean([x*y for x,y in zip(X, Y)])\n",
    "    barx_bary = np.mean(X) * np.mean(Y)\n",
    "    x_2_bar = np.mean([x**2 for x in X])\n",
    "    x_bar_2 = np.mean(X)**2\n",
    "    return (bar_xy - barx_bary) / (x_2_bar - x_bar_2)\n",
    "\n",
    "func_a(X, Y)"
   ]
  },
  {
   "cell_type": "code",
   "execution_count": 5,
   "metadata": {},
   "outputs": [
    {
     "data": {
      "text/plain": [
       "-0.1650585454190846"
      ]
     },
     "execution_count": 5,
     "metadata": {},
     "output_type": "execute_result"
    }
   ],
   "source": [
    "def func_b(X, Y):\n",
    "    a = func_a(X, Y)\n",
    "    x_bar = np.mean(X)\n",
    "    y_bar = np.mean(Y)\n",
    "    return -a * x_bar + y_bar\n",
    "func_b(X, Y)"
   ]
  },
  {
   "cell_type": "code",
   "execution_count": 6,
   "metadata": {},
   "outputs": [
    {
     "data": {
      "image/png": "[encoded data removed]",
      "text/plain": [
       "<Figure size 432x288 with 1 Axes>"
      ]
     },
     "metadata": {
      "needs_background": "light"
     },
     "output_type": "display_data"
    }
   ],
   "source": [
    "a = func_a(X, Y)\n",
    "b = func_b(X, Y)\n",
    "\n",
    "func_ax_plus_b = lambda x, y : a * x + b\n",
    "Y_line = [func_ax_plus_b(x, y) for x, y in zip(X, Y)]\n",
    "\n",
    "plt.scatter(X, Y)\n",
    "plt.plot(X, Y_line, c=\"r\")\n",
    "plt.show()"
   ]
  },
  {
   "cell_type": "code",
   "execution_count": null,
   "metadata": {},
   "outputs": [],
   "source": []
  }
 ],
 "metadata": {
  "kernelspec": {
   "display_name": "Python 3",
   "language": "python",
   "name": "python3"
  },
  "language_info": {
   "codemirror_mode": {
    "name": "ipython",
    "version": 3
   },
   "file_extension": ".py",
   "mimetype": "text/x-python",
   "name": "python",
   "nbconvert_exporter": "python",
   "pygments_lexer": "ipython3",
   "version": "3.6.8"
  }
 },
 "nbformat": 4,
 "nbformat_minor": 2
}
